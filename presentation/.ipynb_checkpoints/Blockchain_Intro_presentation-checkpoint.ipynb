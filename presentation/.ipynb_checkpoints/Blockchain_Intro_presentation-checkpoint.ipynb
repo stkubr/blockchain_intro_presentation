{
 "cells": [
  {
   "cell_type": "markdown",
   "metadata": {
    "slideshow": {
     "slide_type": "slide"
    }
   },
   "source": [
    "# Blockchain Introduction"
   ]
  },
  {
   "cell_type": "markdown",
   "metadata": {
    "slideshow": {
     "slide_type": "slide"
    }
   },
   "source": [
    "# What is blockchain?\n",
    "****\n",
    "> *Immutable database of data transactions*\n",
    "\n",
    "- **Immutable:**\n",
    "\n",
    "    ~~Immune~~Resistant to the alternation of a data entry in the past\n",
    "    \n",
    "    \n",
    "- **Database:**\n",
    "\n",
    "    Stores and timestamps every data entry\n",
    "    \n",
    "    \n",
    "- **Data transactions:**\n",
    "    \n",
    "    Data entry can be anything (and as sizable as possible)"
   ]
  },
  {
   "cell_type": "markdown",
   "metadata": {
    "slideshow": {
     "slide_type": "subslide"
    }
   },
   "source": [
    "# Is it Bitcoin?\n",
    "\n",
    "****   \n",
    "\n",
    "#### **No, not really**\n",
    "\n",
    "<br>\n",
    "\n",
    "Blockchain is *an algorithm*\n",
    "\n",
    "<br>\n",
    "    \n",
    "Bitcoin is a distributed network of *nodes* and *miners* that are communicating to each other and runnning Bitcoin's blockchain algorithm\n"
   ]
  },
  {
   "cell_type": "markdown",
   "metadata": {
    "slideshow": {
     "slide_type": "slide"
    }
   },
   "source": [
    "# Basic Ingredients\n",
    "\n",
    "****\n",
    "\n",
    "### -    Hash functions\n",
    "\n",
    "<br>\n",
    "  \n",
    "### - RSA asymmetric public-private keys\n",
    "\n",
    "<br>\n",
    "\n",
    "### - JSON as data format\n",
    "\n",
    "<br>\n",
    "\n",
    "# - Hype and memes!!!"
   ]
  },
  {
   "cell_type": "markdown",
   "metadata": {
    "slideshow": {
     "slide_type": "slide"
    }
   },
   "source": [
    "# Hash functions\n",
    "\n",
    "****\n",
    "> A hash function is any function that can be used to map data of arbitrary size to data of a fixed size. The values returned by a hash function are called hash values, hash codes, digests, or simply hashes.\n",
    "\n",
    "Hash function $H(I) = O$ is a cryptographic function that several properties:\n",
    " - for any given information outputs array of bits with preset and always the same size, doesn't matter the length of input\n",
    " - the mapping is 1-to-1\n",
    " - has one direction, i.e. for $I$ one can compute $H(I)=O$, but for the known $O$ the input $I$ can not be determined \n",
    " - puzzle frendly, even small hange to $I$ lead to huge change in $O$"
   ]
  },
  {
   "cell_type": "code",
   "execution_count": 10,
   "metadata": {
    "slideshow": {
     "slide_type": "subslide"
    }
   },
   "outputs": [
    {
     "name": "stdout",
     "output_type": "stream",
     "text": [
      "Text: I am just a test string\n",
      "Hash: a95e0f546b9de74c6415c57165e87ece275db309\n",
      "Text: I am just another test string\n",
      "Hash: 6f9c20d8744fa7d0e8e3a12c32f296017edc37af\n"
     ]
    }
   ],
   "source": [
    "import hashlib\n",
    "test_str = 'I am just a test string'\n",
    "test_hash = hashlib.sha1(test_str.encode()).hexdigest()\n",
    "print(f'Text: {test_str}')\n",
    "print(f'Hash: {test_hash}')\n",
    "test_str = 'I am just another test string'\n",
    "test_hash = hashlib.sha1(test_str.encode()).hexdigest()\n",
    "print(f'Text: {test_str}')\n",
    "print(f'Hash: {test_hash}')"
   ]
  },
  {
   "cell_type": "code",
   "execution_count": 29,
   "metadata": {
    "slideshow": {
     "slide_type": "fragment"
    }
   },
   "outputs": [
    {
     "name": "stdout",
     "output_type": "stream",
     "text": [
      "Binary hash: 0b110111110011100001000001101100001110100010011111010011111010000111010001110001110100001001011000011001011110010100101100000000101111110110111000011011110101111\n",
      "Length: 161\n",
      "10^48.16479930623699\n"
     ]
    }
   ],
   "source": [
    "import math\n",
    "bin_hash = bin(int(test_hash,16))\n",
    "print(f'Binary hash: {bin_hash}')\n",
    "print(f'Length: {len(bin_hash)}')\n",
    "print('10^'+str(math.log10(2**160)))"
   ]
  },
  {
   "cell_type": "markdown",
   "metadata": {
    "slideshow": {
     "slide_type": "slide"
    }
   },
   "source": [
    "# RSA encryption\n",
    "\n",
    "****\n",
    "\n",
    ">RSA (Rivest–Shamir–Adleman) is one of the first public-key cryptosystems and is widely used for secure data transmission. In such a cryptosystem, the encryption key is public and it is different from the decryption key which is kept secret (private). In RSA, this asymmetry is based on the practical difficulty of the factorization of the product of two large prime numbers, the \"factoring problem\".\n",
    "\n",
    "![](public_key_cryptography.jpg)"
   ]
  },
  {
   "cell_type": "code",
   "execution_count": 33,
   "metadata": {
    "collapsed": true,
    "slideshow": {
     "slide_type": "subslide"
    }
   },
   "outputs": [],
   "source": [
    "# pick two prime numbers\n",
    "p = 61\n",
    "q = 53\n",
    "n = p * q \n",
    "#3233\n",
    "\n",
    "# compute totient of the product\n",
    "t = (p-1)*(q-1) \n",
    "#3120\n",
    "\n",
    "# choose any number 1<e<t that is coprime to t\n",
    "e = 17\n",
    "\n",
    "# compute modular inverse\n",
    "# d such that d * e % t = 1\n",
    "d = 2753"
   ]
  },
  {
   "cell_type": "markdown",
   "metadata": {
    "slideshow": {
     "slide_type": "subslide"
    }
   },
   "source": [
    "The **public key** is n = 3233, e = 17. The encryption function is $msg^{17} \\; mod \\; m$"
   ]
  },
  {
   "cell_type": "code",
   "execution_count": 34,
   "metadata": {
    "slideshow": {
     "slide_type": "fragment"
    }
   },
   "outputs": [
    {
     "name": "stdout",
     "output_type": "stream",
     "text": [
      "3123\n"
     ]
    }
   ],
   "source": [
    "# Encrypt\n",
    "msg = 42\n",
    "c = msg ** e % n\n",
    "print(c) #3123"
   ]
  },
  {
   "cell_type": "markdown",
   "metadata": {
    "slideshow": {
     "slide_type": "subslide"
    }
   },
   "source": [
    "The **private key** is d = 2753. The encryption function is $c^{d} \\; mod \\; n$"
   ]
  },
  {
   "cell_type": "code",
   "execution_count": null,
   "metadata": {
    "collapsed": true,
    "slideshow": {
     "slide_type": "fragment"
    }
   },
   "outputs": [],
   "source": [
    "# Decrypt\n",
    "msg = c ** d % n \n",
    "print(msg) #42"
   ]
  },
  {
   "cell_type": "markdown",
   "metadata": {
    "slideshow": {
     "slide_type": "slide"
    }
   },
   "source": [
    "# RSA encryption (part 2)\n",
    "\n",
    "****\n",
    "\n",
    "### Encrypt - Decrypt"
   ]
  },
  {
   "cell_type": "code",
   "execution_count": 50,
   "metadata": {
    "slideshow": {
     "slide_type": "fragment"
    }
   },
   "outputs": [
    {
     "name": "stdout",
     "output_type": "stream",
     "text": [
      "Public Key:\n",
      "b'-----BEGIN PUBLIC KEY-----\\nMIIBIjANBgkqhkiG9w0BAQEFAAOCAQ8AMIIBCgKCAQEAlFzQlyzM5FcW9JTyRHO+\\nJ6CLCuC7iwURGNK7TgHOMVbeYWZ0MyFfiR4rMKU0hK+n7kLcGJkpqG5QIc3sseu+\\nj4YqwbhCC006/5U3DV57tsODMeX5fj9H0WRKXKD9wtlfwI58AibsJN8ATfxt7JD1\\n0QowlTuFvICJ/opt9/q7T7FpsBQhS2fxcL+fxoQin9rUXWxd2DNRuAvF+GsYWj63\\nQ7lzDsVZkCUyIjANPFe/kE6dNW6M2eo/So2Fdfw1ixouQ13w7mTbckrSHhEGAoNm\\nAX/BpjmXRAWvYR8mPUOba9oh1UhdaB2BnRsPEPODpWdjWvowwHB0VEE3jKqklAf7\\n6wIDAQAB\\n-----END PUBLIC KEY-----'\n",
      "\n",
      "\n"
     ]
    }
   ],
   "source": [
    "from Crypto import Random\n",
    "from Crypto.PublicKey import RSA\n",
    "import base64\n",
    "\n",
    "modulus_length = 2048\n",
    "privatekey = RSA.generate(modulus_length, Random.new().read)\n",
    "publickey = privatekey.publickey()\n",
    "\n",
    "print('Public Key:')\n",
    "print(publickey.exportKey())\n",
    "print('\\n')"
   ]
  },
  {
   "cell_type": "code",
   "execution_count": 49,
   "metadata": {
    "slideshow": {
     "slide_type": "subslide"
    }
   },
   "outputs": [
    {
     "name": "stdout",
     "output_type": "stream",
     "text": [
      "Original:\n",
      "top_secret\n",
      "\n",
      "\n",
      "Encrypted:\n",
      "b'a6zVKiduNOyOB065LQXQ9kiy80No3ceK1JCbT4xWLAEAtAeE2ccsev7+yPoeKXFdVI9ss6v3xD3ZewY6NahaiDQwJKsZo7fZnCFpKe4x42inyH7zBXs+R5BgrPirxxEaZHufVKz0O285FBl57/YfCTycpRbny7AYcMn2CFLALuNj4fC5/7hdKNZjh86FGJtjKF/cDpdCN8WTJpTDgfgTVnqmgdKVCSbhqGasE1ardxa8E03kmtv3SogHY/qG8Jy5N3V5l6ksvXTcyGv4VvDOihRMw/HbPcPbjN8kGL0BxcLp7hrGaAPj3BihTAvS0KMM0tZ58jedMb45CMdyCeWnrw=='\n",
      "\n",
      "\n",
      "Decrypted:\n",
      "b'top_secret'\n"
     ]
    }
   ],
   "source": [
    "msg = 'top_secret'\n",
    "print('Original:')\n",
    "print(msg)\n",
    "print('\\n')\n",
    "encrypted_msg = publickey.encrypt(msg.encode(), 32)[0]\n",
    "encoded_encrypted_msg = base64.b64encode(encrypted_msg)\n",
    "print('Encrypted:')\n",
    "print(encoded_encrypted_msg)\n",
    "print('\\n')\n",
    "\n",
    "decoded_encrypted_msg = base64.b64decode(encoded_encrypted_msg)\n",
    "decoded_decrypted_msg = privatekey.decrypt(decoded_encrypted_msg)\n",
    "print('Decrypted:')\n",
    "print(decoded_decrypted_msg)"
   ]
  },
  {
   "cell_type": "markdown",
   "metadata": {
    "slideshow": {
     "slide_type": "subslide"
    }
   },
   "source": [
    "![](sign.png)"
   ]
  },
  {
   "cell_type": "markdown",
   "metadata": {
    "slideshow": {
     "slide_type": "slide"
    }
   },
   "source": [
    "# Putting it all together\n",
    "****\n",
    "\n",
    "![Blockchain](blockchain.png)\n",
    "![Block of transactions](block.png)"
   ]
  },
  {
   "cell_type": "markdown",
   "metadata": {
    "slideshow": {
     "slide_type": "slide"
    }
   },
   "source": [
    "# Lets code!"
   ]
  },
  {
   "cell_type": "code",
   "execution_count": null,
   "metadata": {
    "collapsed": true,
    "slideshow": {
     "slide_type": "subslide"
    }
   },
   "outputs": [],
   "source": [
    "class Blockchain:\n",
    "  def __init__(self):\n",
    "    self.current_transactions = []\n",
    "    self.chain = []\n",
    "    self.nodes = set()\n",
    "\n",
    "    # Create the genesis block\n",
    "    self.new_block(previous_hash='1', proof=100)\n",
    "\n",
    "  def valid_chain(self, chain):\n",
    "    last_block = chain[0]\n",
    "    current_index = 1\n",
    "\n",
    "    while current_index < len(chain):\n",
    "      block = chain[current_index]\n",
    "      # Check that the hash of the block is correct\n",
    "      last_block_hash = self.hash(last_block)\n",
    "      if block['previous_hash'] != last_block_hash:\n",
    "        return False\n",
    "\n",
    "      # Check that the Proof of Work is correct\n",
    "      if not self.valid_proof(last_block['proof'], block['proof'], last_block_hash):\n",
    "        return False\n",
    "\n",
    "      last_block = block\n",
    "      current_index += 1\n",
    "\n",
    "    return True\n",
    "\n",
    "@staticmethod\n",
    "  def hash(block):\n",
    "    block_string = json.dumps(block, sort_keys=True).encode()\n",
    "    return hashlib.sha1(block_string).hexdigest()\n"
   ]
  },
  {
   "cell_type": "code",
   "execution_count": null,
   "metadata": {
    "collapsed": true,
    "slideshow": {
     "slide_type": "subslide"
    }
   },
   "outputs": [],
   "source": [
    "  def new_block(self, proof, previous_hash):\n",
    "    block = {\n",
    "      'index': len(self.chain) + 1,\n",
    "      'timestamp': time(),\n",
    "      'transactions': self.current_transactions,\n",
    "      'proof': proof,\n",
    "      'previous_hash': previous_hash or self.hash(self.chain[-1]),\n",
    "    }\n",
    "\n",
    "    # Reset the current list of transactions\n",
    "    self.current_transactions = []\n",
    "\n",
    "    self.chain.append(block)\n",
    "    return block\n"
   ]
  },
  {
   "cell_type": "code",
   "execution_count": null,
   "metadata": {
    "collapsed": true,
    "slideshow": {
     "slide_type": "subslide"
    }
   },
   "outputs": [],
   "source": [
    "@app.route('/mine', methods=['GET'])\n",
    "def mine():\n",
    "  # We run the proof of work algorithm to get the next proof...\n",
    "  last_block = blockchain.last_block\n",
    "  proof = blockchain.proof_of_work(last_block)\n",
    "\n",
    "  # We must receive a reward for finding the proof.\n",
    "  # The sender is \"0\" to signify that this node has mined a new coin.\n",
    "  blockchain.new_transaction(\n",
    "    sender=\"0\",\n",
    "    recipient=node_identifier,\n",
    "    amount=1,\n",
    "    signature='0'\n",
    "  )\n",
    "\n",
    "  # Forge the new Block by adding it to the chain\n",
    "  previous_hash = blockchain.hash(last_block)\n",
    "  block = blockchain.new_block(proof, previous_hash)\n",
    "\n",
    "  response = {\n",
    "    'message': \"New Block Forged\",\n",
    "    'index': block['index'],\n",
    "    'transactions': block['transactions'],\n",
    "    'proof': block['proof'],\n",
    "    'previous_hash': block['previous_hash'],\n",
    "  }\n",
    "  return jsonify(response), 200"
   ]
  },
  {
   "cell_type": "code",
   "execution_count": null,
   "metadata": {
    "slideshow": {
     "slide_type": "subslide"
    }
   },
   "outputs": [],
   "source": [
    "  def proof_of_work(self, last_block):\n",
    "    last_proof = last_block['proof']\n",
    "    last_hash = self.hash(last_block)\n",
    "\n",
    "    proof = 0\n",
    "    while self.valid_proof(last_proof, proof, last_hash) is False:\n",
    "      proof += 1\n",
    "\n",
    "    return proof\n",
    "\n",
    "  @staticmethod\n",
    "  def valid_proof(last_proof, proof, last_hash):\n",
    "    guess = f{last_proof}{proof}{last_hash}.encode()\n",
    "    guess_hash = hashlib.sha1(guess).hexdigest()\n",
    "    return guess_hash[:4] == \"0000\""
   ]
  },
  {
   "cell_type": "code",
   "execution_count": null,
   "metadata": {
    "collapsed": true,
    "slideshow": {
     "slide_type": "subslide"
    }
   },
   "outputs": [],
   "source": [
    "  def new_transaction(self, sender, recipient, amount, signature):\n",
    "    self.current_transactions.append({\n",
    "      'sender': sender,\n",
    "      'recipient': recipient,\n",
    "      'amount': amount,\n",
    "      'signature': signature\n",
    "    })\n",
    "\n",
    "    return self.last_block['index'] + 1\n",
    "\n",
    "@app.route('/transactions/new', methods=['POST'])\n",
    "def new_transaction():\n",
    "  values = request.get_json()\n",
    "\n",
    "  # Check that the required fields are in the POST'ed data\n",
    "  required = ['sender', 'recipient', 'amount']\n",
    "  if not all(k in values for k in required):\n",
    "    return 'Missing values', 400\n",
    "\n",
    "  # Create a new Transaction\n",
    "  index = blockchain.new_transaction(values['sender'], values['recipient'], values['amount'], values['signature'])\n",
    "\n",
    "  response = {'message': f'Transaction will be added to Block {index}'}"
   ]
  },
  {
   "cell_type": "code",
   "execution_count": null,
   "metadata": {
    "collapsed": true,
    "slideshow": {
     "slide_type": "subslide"
    }
   },
   "outputs": [],
   "source": [
    "  def resolve_conflicts(self):\n",
    "    neighbours = self.nodes\n",
    "    new_chain = None\n",
    "\n",
    "    # We're only looking for chains longer than ours\n",
    "    max_length = len(self.chain)\n",
    "\n",
    "    # Grab and verify the chains from all the nodes in our network\n",
    "    for node in neighbours:\n",
    "      response = requests.get(node + '/chain')\n",
    "\n",
    "      if response.status_code == 200:\n",
    "        length = response.json()['length']\n",
    "        chain = response.json()['chain']\n",
    "\n",
    "        # Check if the length is longer and the chain is valid\n",
    "        if length > max_length and self.valid_chain(chain):\n",
    "          max_length = length\n",
    "          new_chain = chain\n",
    "\n",
    "    # Replace our chain if we discovered a new, valid chain longer than ours\n",
    "    if new_chain:\n",
    "      self.chain = new_chain\n",
    "      return True\n",
    "\n",
    "    return False"
   ]
  }
 ],
 "metadata": {
  "celltoolbar": "Slideshow",
  "kernelspec": {
   "display_name": "Python 3",
   "language": "python",
   "name": "python3"
  },
  "language_info": {
   "codemirror_mode": {
    "name": "ipython",
    "version": 3
   },
   "file_extension": ".py",
   "mimetype": "text/x-python",
   "name": "python",
   "nbconvert_exporter": "python",
   "pygments_lexer": "ipython3",
   "version": "3.6.0"
  }
 },
 "nbformat": 4,
 "nbformat_minor": 2
}
